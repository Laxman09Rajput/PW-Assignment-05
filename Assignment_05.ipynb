{
  "nbformat": 4,
  "nbformat_minor": 0,
  "metadata": {
    "colab": {
      "provenance": []
    },
    "kernelspec": {
      "name": "python3",
      "display_name": "Python 3"
    },
    "language_info": {
      "name": "python"
    }
  },
  "cells": [
    {
      "cell_type": "markdown",
      "source": [
        "# Files, exceptional handling,logging and memory management\n",
        "\n",
        "1. What is the difference between interpreted and compiled languages ?\n",
        "\n",
        "  -  Compiled and interpreted languages differ primarily in how their code is executed.  The entire code is first converted into machine language in compiled languages, which speeds up execution but adds a step.  In contrast, interpreted languages are typically slower but easier to work with because they process code line by line as it runs.  Interpreted languages use an interpreter, whereas compiled languages require a compiler.  Speed, debugging ease, and the urgency of your results will all influence your decision.\n",
        "\n",
        "2. What is exception handling in Python ?\n",
        "\n",
        "   -  Exception handling in Python allows you to manage errors without causing your application to crash.  Python assists you in identifying and resolving issues rather than stopping everything when something goes wrong.  Your program becomes more dependable and user-friendly as a result.  Without exception handling, a minor mistake could lead to the program's complete failure.  By effectively handling problems, you can display useful messages, make another attempt, or adopt an alternative strategy to maintain functionality.  Detecting and resolving problems without needless disruptions also makes debugging simpler.  When exceptions are handled correctly, your software continues to function as intended even in the face of unforeseen issues.\n",
        "   \n",
        "3.  What is the purpose of the finally block in exception handling ?\n",
        "\n",
        "   - In exception handling, the finally block ensures that specific code executes regardless of whether an error occurs or not.  In order to keep the system operating properly, it is mostly used for cleanup operations like shutting files or releasing resources.  The code inside finally will still run before the program continues, even if an exception arises and is ignored.  This guarantees that crucial activities are finished correctly before the program concludes or moves forward.\n",
        "\n",
        "4.  What is logging in Python ?\n",
        "\n",
        "    - Python logging allows you to monitor what happens while a program is running.  Instead of merely printing messages to the screen, logging enables you to systematically capture critical information, including errors, warnings, or debugging details.  This aids programmers in comprehending what's going on, particularly when an issue arises.  It is simpler to identify and address problems when logs are stored to a file or seen in the terminal.  Logging effectively aids in program organization, enhances debugging, and offers valuable information about how the program is operating over time.\n",
        "\n",
        "5. What is the significance of the __del__ method in Python ?\n",
        "\n",
        "  - In Python, the _del_ method is a unique function that serves as a destructor.  When an object is ready to be destroyed—usually when it is no longer mentioned anywhere in the program—it is automatically called.  Closing files, freeing up RAM, or disconnecting from a database are examples of cleanup chores that benefit from this technique.  But because Python's garbage collector does not always provide a precise time for object removal, depending on _del_ is not always the best option.  This implies that cleanup may take some time, particularly if the software uses manual memory management approaches if circular references are present.\n",
        "  When handling resources, context managers (the with statement) are a more dependable method than _del_ since they guarantee that resources be released as soon as they are no longer required.  By doing this, the code is cleaner and possible problems with delayed trash collection are avoided.  It's often preferable to employ explicit cleanup techniques and stay away from _del_ unless it's absolutely required.  Do utilize it, but be aware that unexpected delays in object destruction may result in memory leaks or unclosed files, which might impact program performance.\n",
        "\n",
        "6. What is the difference between import and from ... import in Python ?\n",
        "\n",
        "    - The import statement in Python imports a whole module, so you may access all of its contents, but you must use the module name to call functions or variables.  This maintains everything under its own module, which prevents confusion and keeps things structured.  However, because you must always enter the module name before using anything from it, it may result in slightly lengthier code.\n",
        "     The import statement in Python imports a whole module, so you may access all of its contents, but you must use the module name to call functions or variables.  This maintains everything under its own module, which prevents confusion and keeps things structured.  However, because you must always enter the module name before using anything from it, it may result in slightly lengthier code .\n",
        "\n",
        "7. How can you handle multiple exceptions in Python ?\n",
        "\n",
        "  - In Python, you can handle multiple exceptions using a single except block with a tuple of exceptions or using multiple except blocks for different errors.\n"
      ],
      "metadata": {
        "id": "w9TKY2LIeqEn"
      }
    },
    {
      "cell_type": "code",
      "source": [
        "# using Tuple\n",
        "\n",
        "  try:\n",
        "    x = int(\"abc\")  r\n",
        " except (ValueError, TypeError) as e:\n",
        "    print(f\"Error occurred: {e}\")"
      ],
      "metadata": {
        "colab": {
          "base_uri": "https://localhost:8080/",
          "height": 106
        },
        "id": "4wsUHvKNaCIT",
        "outputId": "6983205f-1620-46e4-cbe7-bc205c694ce0"
      },
      "execution_count": 7,
      "outputs": [
        {
          "output_type": "error",
          "ename": "IndentationError",
          "evalue": "unindent does not match any outer indentation level (<tokenize>, line 5)",
          "traceback": [
            "\u001b[0;36m  File \u001b[0;32m\"<tokenize>\"\u001b[0;36m, line \u001b[0;32m5\u001b[0m\n\u001b[0;31m    except (ValueError, TypeError) as e:\u001b[0m\n\u001b[0m    ^\u001b[0m\n\u001b[0;31mIndentationError\u001b[0m\u001b[0;31m:\u001b[0m unindent does not match any outer indentation level\n"
          ]
        }
      ]
    },
    {
      "cell_type": "markdown",
      "source": [
        "8. What is the purpose of the with statement when handling files in Python ?\n",
        "\n",
        "  - Python's with statement simplifies and secures file operations.  Generally speaking, you must remember to shut files after opening them to avoid problems like memory leaks or corrupted files.  However, if you use open(), Python will immediately shut the file after you're finished, regardless of any issues.  As a result, you can stop worrying about forgetting to close it.  It keeps your code clear, uncomplicated, and secure.\n",
        "\n",
        "\n"
      ],
      "metadata": {
        "id": "OG3SSHNai757"
      }
    },
    {
      "cell_type": "markdown",
      "source": [
        "9. What is the difference between multithreading and multiprocessing ?\n",
        "    -   Multiple threads are executed within a single program through multithreading.  Communication between these threads is facilitated by their shared memory, but because they vie for CPU time, they may lag.  It is helpful for tasks that require waiting, such as processing user input or downloading files.\n",
        "\n",
        "     Multiple processes, each with its own memory space, are operated by multiprocessing.  This speeds up CPU-intensive operations like data processing and computations since processes operate separately and don't impede one another.\n",
        "\n",
        "\n",
        "10. What are the advantages of using logging in a program ?\n",
        "\n",
        " -   You can monitor what's happening in your software by logging in.  Logging enables you to systematically record significant events, mistakes, or warnings rather than relying solely on print().  Finding and resolving problems is made much simpler because you can review the logs to see what went wrong.  It's also helpful for monitoring long-running processes, such as webpages or apps.  Logs can be saved to a file, messages can be filtered by importance (error, warning, or information), and performance can even be checked.  To put it simply, logging allows you to better monitor, debug, and comprehend your software without creating a mess on the screen .\n",
        "\n",
        "11. What is memory management in Python\n",
        "   - The automatic storage and cleanup of memory in Python is known as memory management.  In contrast to some other languages, Python handles memory allocation and release for you.  Garbage collection eliminates unnecessary data, while reference counting eliminates objects when they are no longer needed.  This helps stop memory leaks and makes coding simpler.  However, knowing how Python handles memory might help you design smarter, more effective programs if you're working with a lot of data or need to maximize performance\n",
        "\n",
        "12. What are the basic steps involved in exception handling in Python ?\n",
        "\n",
        "   - Python exception handling aims to keep your program from crashing without warning.  It's easy: you try running some code that might result in an error first.  The unless block detects errors so you can take appropriate action, such as displaying a message.  Additionally, you can have more than one except block for distinct failures.  Finally blocks, which are frequently used for cleanup tasks like shutting a file, execute at all times if necessary.  In this manner, when an error occurs, your software continues to function normally rather than abruptly halting .\n",
        "\n",
        "13. Why is memory management important in Python ?\n",
        "\n",
        "   - Python memory management is crucial because it prevents your program from being slow due to excessive memory usage.  The best thing about it?  Python takes care of much of it!  It uses garbage collection to automatically remove unnecessary data, saving you the trouble of allocating memory on your own.  This keeps memory leaks at bay and makes your software function more efficiently, particularly when working with big files or a lot of data.  Despite Python's excellent memory management capabilities, knowing how it operates can help you develop code that is faster, more effective, and less prone to crashes or resource waste.\n",
        "\n",
        "14. What is the role of try and except in exception handling ?\n",
        "\n",
        "    - In Python, your code is protected by the try and except blocks.  Python runs code as usual when it is included in a try block.  The program moves to the unless block, where you may handle the mistake, rather than crashing the entire program if something goes wrong.  Showing a message, trying an action again, or simply keeping the application from abruptly terminating could be examples of this.  The Python equivalent would be to say, \"Try this, but if it fails, do this instead.\"  This increases your program's dependability and usability because it won't simply malfunction when something unforeseen occurs.\n",
        "\n",
        "15. How does Python's garbage collection system work ?\n",
        "\n",
        "   - When an object is no longer required, Python's garbage collection mechanism frees up space and keeps memory clean.  Reference counting, which maintains an object in memory as long as it is being used, is its primary method.  It can be challenging for Python to determine whether an object is truly unused when it becomes trapped in a loop where it refers to another object.  Python's cyclic garbage collector addresses this issue by periodically detecting and eliminating these loops.  Although this usually occurs automatically, you can use Python's gc module to manually execute the garbage collector if necessary.  Although trash collection aids in effective memory management, it can cause lag in performance-demanding programs\n",
        "\n",
        "16. What is the purpose of the else block in exception handling ?\n",
        "\n",
        "  -  Only when there are no exceptions in the try block does Python's else block in exception handling execute code.  Consider it this way:  If something goes wrong, the except block handles the issue. You try something dangerous in the try block.  However, if all goes well, the else block executes.  Because it isolates the error-handling portion from the regular execution, this keeps your code cleaner.  The try block, for instance, opens the file you're reading, the unless block handles any failures, and the else block only processes the file if it was opened properly.  Although it's not necessary, it helps organize and read your code.\n",
        "\n",
        "17. What are the common logging levels in Python ?\n",
        "\n",
        "   - Logging levels in Python make it simpler to keep track of what's going on in your program by classifying messages according to their significance.  The DEBUG, INFO, WARNING, ERROR, and CRITICAL levels are the most often used ones.  DEBUG is mostly used for troubleshooting and provides extremely detailed information.  INFO is used for broad program progress reports.  A WARNING indicates an unforeseen but perhaps harmless situation.  ERROR indicates a problem that requires attention.  The most dangerous level, CRITICAL, is employed when there is significant program problem and a risk of a crash.  By using these levels, you may filter logs so that you only see the most crucial information rather than being overloaded with data.\n",
        "\n",
        "18. What is the difference between os.fork() and multiprocessing in Python ?\n",
        "\n",
        "   - Python's multiprocessing module and os.fork() differ in how they generate new processes.  Making a clone of the current process is the primary function of os.fork(), a low-level yet straightforward method of creating a child process.  It's quick, but it only functions on Unix-type platforms (like Linux and macOS), and it can be challenging to control when shared resources are involved.  Working with several processes is easier when you multiprocess.  All operating systems can use it, because it has built-in mechanisms for process communication and steers clear of common problems like memory conflicts.  If working on Unix and you need something fast, os.fork() can be the solution.  But multiprocessing is the safer and better option in most cases, particularly when designing universally compatible code.\n",
        "\n",
        " 19. What is the importance of closing a file in Python ?\n",
        "\n",
        "    - Python file closure is crucial because it ensures that all of your data is saved and releases system resources.  Python maintains a connection to the file when you access it; if you don't close it, the file may remain locked or use up extra memory.  Problems may arise from this, particularly if you're handling multiple files at once.  Additionally, closing a file after writing to it guarantees that everything is stored correctly and isn't trapped in a temporary buffer.  A with open() block, which immediately closes the file for you and helps avoid errors, is the ideal method to handle this.\n",
        "\n",
        "  20.  What is the difference between file.read() and file.readline() in Python\n",
        "\n",
        "  - file.read()\n",
        "\n",
        "   To read a file's full contents as a single string, use the read() method.  It will read only that many characters if you enter a number inside read(n); if you leave it empty, it will read the entire file.  Because it loads everything into memory, this method can be inefficient for huge files, but it is helpful when processing the entire file at once.\n",
        "\n",
        "  - file.readline()\n",
        "\n",
        "  In contrast, the readline() method reads a single line from the file at a time.  It is a preferable option when working with huge files or when processing data line by line because it advances to the next line each time you call it.  It is more effective at handling large text files without running out of memory since it does not load the entire file into memory at once.\n",
        "\n",
        "\n",
        " 21. What is the logging module in Python used for ?\n",
        "    \n",
        "    - The logging module in Python is used to track events and errors in a program so you can understand what’s happening while it runs. Instead of using print statements, logging helps you record messages at different levels like debug, info, warning, error, and critical, making it easier to identify issues. It also allows you to save logs to files, display them on the console, or even send them to external systems. This is especially useful for debugging, monitoring applications, and keeping records of important events without cluttering your code.\n",
        "\n",
        "  22. What is the os module in Python used for in file handling\n",
        "\n",
        "    - You can work with files and directories on your computer with the aid of Python's OS module.  Instead of doing it by hand, you can use it to create, remove, transfer, or rename files and directories.  Additionally, it allows you to view information about a file, modify its permissions, and determine whether it exists.  This module is quite helpful when you need to automate chores like controlling system paths or organizing files.  Additionally, because it functions across several operating systems, your code remains adaptable and seamless everywhere.\n",
        "\n",
        " 23. What are the challenges associated with memory management in Python ?\n",
        "   \n",
        "   - Python has unique memory management issues, mostly because of its automatic garbage collection and dynamic allocation.  Memory leaks are a frequent problem that arises when objects are referenced even after they are no longer required, preventing memory from being released.  Another issue is fragmentation, which occurs when memory is made less efficient by frequent allocations and deallocations.  Python's Global Interpreter Lock (GIL), which limits parallel execution, can also cause multi-threaded programs to run more slowly.  Developers must exercise caution while using Python's memory management tools, such as the gc module, to avoid circular references, free up huge objects, and write code that is efficient.  For Python applications to continue operating smoothly and effectively, memory management is essential.\n",
        "\n",
        " 24.  How do you raise an exception manually in Python ?\n",
        "    \n",
        "    - In Python, the raise keyword is used to manually raise an exception.  This is helpful if you want to indicate a problem or a certain state in your software.  To do this, just enter raise and then the sort of exception you wish to raise.  For instance, raise ValueError(\"A custom error message\") would be the code to issue a ValueError.  The program's usual operation will be stopped, and the error message you supplied will be shown.  Another option is to define a class that inherits from Python's built-in Exception class in order to generate your own unique exceptions.  By manually raising exceptions, you may deal with particular failure scenarios and make sure your software operates as intended and is capable of responding to unforeseen circumstances.\n",
        "\n",
        "\n",
        "    ----------------------------------------------------------------------------------------------------"
      ],
      "metadata": {
        "id": "a60hP51rk77J"
      }
    },
    {
      "cell_type": "code",
      "source": [
        "#Practical Questions\n"
      ],
      "metadata": {
        "id": "SPWbpjaF2oA2"
      },
      "execution_count": 2,
      "outputs": []
    },
    {
      "cell_type": "code",
      "source": [
        "with open(\"file.txt\", \"r\") as file:\n",
        "    for line in file:\n",
        "        print(line)\n"
      ],
      "metadata": {
        "colab": {
          "base_uri": "https://localhost:8080/"
        },
        "id": "sG9CSvpY3lta",
        "outputId": "c0b2db51-1378-47c2-a754-de1c952dbe4f"
      },
      "execution_count": 7,
      "outputs": [
        {
          "output_type": "stream",
          "name": "stdout",
          "text": [
            "Hello, wworld!\n"
          ]
        }
      ]
    },
    {
      "cell_type": "code",
      "source": [
        "try:\n",
        "    with open(\"non_existent_file.txt\", \"r\") as file:\n",
        "        content = file.read()\n",
        "except FileNotFoundError:\n",
        "    print(\"The file does not exist.\")\n"
      ],
      "metadata": {
        "colab": {
          "base_uri": "https://localhost:8080/"
        },
        "id": "Suq_Ek4u3wZE",
        "outputId": "87bb7b1f-b45d-4935-fe22-1fd822f6a3c6"
      },
      "execution_count": 8,
      "outputs": [
        {
          "output_type": "stream",
          "name": "stdout",
          "text": [
            "The file does not exist.\n"
          ]
        }
      ]
    },
    {
      "cell_type": "code",
      "source": [
        "\n",
        "try:\n",
        "    result = 10 / 0\n",
        "except ZeroDivisionError:\n",
        "    print(\"Cannot divide by zero!\")\n"
      ],
      "metadata": {
        "colab": {
          "base_uri": "https://localhost:8080/"
        },
        "id": "tOojEzA94MkD",
        "outputId": "ffb7d544-aa89-470a-f6f0-f1f4003209c9"
      },
      "execution_count": 13,
      "outputs": [
        {
          "output_type": "stream",
          "name": "stdout",
          "text": [
            "Cannot divide by zero!\n"
          ]
        }
      ]
    },
    {
      "cell_type": "code",
      "source": [
        "\n",
        "logging.basicConfig(filename='error.log', level=logging.ERROR)\n",
        "try:\n",
        "    result = 10 / 0\n",
        "except ZeroDivisionError:\n",
        "    logging.error(\"Attempted division by zero.\")\n"
      ],
      "metadata": {
        "colab": {
          "base_uri": "https://localhost:8080/"
        },
        "id": "nwZSQXbP4S_x",
        "outputId": "639a3e5d-d25e-44f9-8b10-ff9958248b86"
      },
      "execution_count": 15,
      "outputs": [
        {
          "output_type": "stream",
          "name": "stderr",
          "text": [
            "ERROR:root:Attempted division by zero.\n"
          ]
        }
      ]
    },
    {
      "cell_type": "code",
      "source": [
        "logging.basicConfig(level=logging.DEBUG)\n",
        "\n",
        "logging.info(\"This is an info message.\")\n",
        "logging.warning(\"This is a warning message.\")\n",
        "logging.error(\"This is an error message.\")\n"
      ],
      "metadata": {
        "colab": {
          "base_uri": "https://localhost:8080/"
        },
        "id": "p8lHca0i4dah",
        "outputId": "bd1e342e-79c6-4546-d40d-e5faa95169aa"
      },
      "execution_count": 17,
      "outputs": [
        {
          "output_type": "stream",
          "name": "stderr",
          "text": [
            "WARNING:root:This is a warning message.\n",
            "ERROR:root:This is an error message.\n"
          ]
        }
      ]
    },
    {
      "cell_type": "code",
      "source": [
        "try:\n",
        "    with open(\"non_existent_file.txt\", \"r\") as file:\n",
        "        content = file.read()\n",
        "except Exception as e:\n",
        "    print(f\"An error occurred: {e}\")\n"
      ],
      "metadata": {
        "colab": {
          "base_uri": "https://localhost:8080/"
        },
        "id": "WLJkdhag4qbZ",
        "outputId": "765b68ab-c671-453b-930b-a58c93cea5a8"
      },
      "execution_count": 18,
      "outputs": [
        {
          "output_type": "stream",
          "name": "stdout",
          "text": [
            "An error occurred: [Errno 2] No such file or directory: 'non_existent_file.txt'\n"
          ]
        }
      ]
    },
    {
      "cell_type": "code",
      "source": [
        "with open(\"file.txt\", \"r\") as file:\n",
        "    lines = file.readlines()\n",
        "\n",
        "print(lines)\n"
      ],
      "metadata": {
        "colab": {
          "base_uri": "https://localhost:8080/"
        },
        "id": "8fbklU-z4wDl",
        "outputId": "7a5db6a2-98bb-480a-af5e-bae899fbde9e"
      },
      "execution_count": 19,
      "outputs": [
        {
          "output_type": "stream",
          "name": "stdout",
          "text": [
            "['Hello, wworld!']\n"
          ]
        }
      ]
    },
    {
      "cell_type": "code",
      "source": [
        "with open(\"file.txt\", \"a\") as file:\n",
        "   file.write(\"New line added to the file.\\n\")\n"
      ],
      "metadata": {
        "id": "WZAKNa334_D8"
      },
      "execution_count": 22,
      "outputs": []
    },
    {
      "cell_type": "code",
      "source": [
        "my_dict = {\"name\": \"John\"}\n",
        "\n",
        "try:\n",
        "    value = my_dict[\"age\"]\n",
        "except KeyError:\n",
        "    print(\"Key not found!\")\n"
      ],
      "metadata": {
        "colab": {
          "base_uri": "https://localhost:8080/"
        },
        "id": "Ouwup4cX5MTO",
        "outputId": "6f5bec72-24bd-403d-9716-a4fed3d6f3c6"
      },
      "execution_count": 23,
      "outputs": [
        {
          "output_type": "stream",
          "name": "stdout",
          "text": [
            "Key not found!\n"
          ]
        }
      ]
    },
    {
      "cell_type": "code",
      "source": [
        "try:\n",
        "    result = 10 / 0\n",
        "    my_dict = {\"name\": \"love\"}\n",
        "    print(my_dict[\"age\"])  # KeyError\n",
        "except ZeroDivisionError:\n",
        "    print(\"Cannot divide by zero!\")\n",
        "except KeyError:\n",
        "    print(\"Key not found!\")\n"
      ],
      "metadata": {
        "colab": {
          "base_uri": "https://localhost:8080/"
        },
        "id": "E7L16GqU5bAZ",
        "outputId": "3188eb2c-15c9-4777-b49f-9fe451ac0a87"
      },
      "execution_count": 24,
      "outputs": [
        {
          "output_type": "stream",
          "name": "stdout",
          "text": [
            "Cannot divide by zero!\n"
          ]
        }
      ]
    },
    {
      "cell_type": "code",
      "source": [
        "import os\n",
        "if os.path.exists(\"file.txt\"):\n",
        "    with open(\"file.txt\", \"r\") as file:\n",
        "        content = file.read()\n",
        "else:\n",
        "    print(\"File does not exist.\")\n"
      ],
      "metadata": {
        "id": "oxilP51o5m5B"
      },
      "execution_count": 26,
      "outputs": []
    },
    {
      "cell_type": "code",
      "source": [
        "import logging\n",
        "logging.basicConfig(filename='app.log', level=logging.DEBUG)\n",
        "\n",
        "logging.info(\"This is an informational message.\")\n",
        "logging.error(\"This is an error message.\")\n"
      ],
      "metadata": {
        "colab": {
          "base_uri": "https://localhost:8080/"
        },
        "id": "eKiv1j3X5vCi",
        "outputId": "c72d8c37-dde1-4582-b750-90ce2f15f0bd"
      },
      "execution_count": 27,
      "outputs": [
        {
          "output_type": "stream",
          "name": "stderr",
          "text": [
            "ERROR:root:This is an error message.\n"
          ]
        }
      ]
    },
    {
      "cell_type": "code",
      "source": [
        "try:\n",
        "    with open(\"file.txt\", \"r\") as file:\n",
        "        content = file.read()\n",
        "        if not content:\n",
        "            print(\"The file is empty.\")\n",
        "        else:\n",
        "            print(content)\n",
        "except FileNotFoundError:\n",
        "    print(\"The file doesn't exist.\")\n"
      ],
      "metadata": {
        "colab": {
          "base_uri": "https://localhost:8080/"
        },
        "id": "58CFzzUZ56Ga",
        "outputId": "08905142-9cf6-40f0-9ac0-0917e1cbf1f4"
      },
      "execution_count": 28,
      "outputs": [
        {
          "output_type": "stream",
          "name": "stdout",
          "text": [
            "Hello, wworld!New line added to the file.\n",
            "New line added to the file.\n",
            "New line added to the file.\n",
            "\n"
          ]
        }
      ]
    },
    {
      "cell_type": "code",
      "source": [
        "numbers = [1, 2, 3, 4, 5]\n",
        "\n",
        "with open(\"numbers.txt\", \"w\") as file:\n",
        "    for number in numbers:\n",
        "        file.write(f\"{number}\\n\")\n"
      ],
      "metadata": {
        "id": "7AohMvgd6N2s"
      },
      "execution_count": 31,
      "outputs": []
    },
    {
      "cell_type": "code",
      "source": [
        "import logging\n",
        "from logging.handlers import RotatingFileHandler\n",
        "\n",
        "handler = RotatingFileHandler('app.log', maxBytes=1e6, backupCount=3)\n",
        "logging.basicConfig(level=logging.INFO, handlers=[handler])\n",
        "\n",
        "logging.info(\"This is a log message.\")\n"
      ],
      "metadata": {
        "id": "jq6YTd-X6X_X"
      },
      "execution_count": 33,
      "outputs": []
    },
    {
      "cell_type": "code",
      "source": [
        "try:\n",
        "    my_list = [1, 2, 3]\n",
        "    print(my_list[5])\n",
        "    my_dict = {\"name\": \"love\"}\n",
        "    print(my_dict[\"age\"])  # KeyError\n",
        "except IndexError:\n",
        "    print(\"Index out of range!\")\n",
        "except KeyError:\n",
        "    print(\"Key not found!\")\n"
      ],
      "metadata": {
        "colab": {
          "base_uri": "https://localhost:8080/"
        },
        "id": "7q9t7bZU6fgm",
        "outputId": "945b5963-e9c3-4ab6-f5c4-dbd75eb371f9"
      },
      "execution_count": 35,
      "outputs": [
        {
          "output_type": "stream",
          "name": "stdout",
          "text": [
            "Index out of range!\n"
          ]
        }
      ]
    },
    {
      "cell_type": "code",
      "source": [
        "with open(\"file.txt\", \"r\") as file:\n",
        "    content = file.read()\n",
        "    print(content)\n"
      ],
      "metadata": {
        "colab": {
          "base_uri": "https://localhost:8080/"
        },
        "id": "2aCJEPP56qyB",
        "outputId": "51dd830e-b446-4e0b-835e-718b59d4be6b"
      },
      "execution_count": 36,
      "outputs": [
        {
          "output_type": "stream",
          "name": "stdout",
          "text": [
            "Hello, wworld!New line added to the file.\n",
            "New line added to the file.\n",
            "New line added to the file.\n",
            "\n"
          ]
        }
      ]
    },
    {
      "cell_type": "code",
      "source": [
        "def count_word_occurrences(filename, word):\n",
        "    try:\n",
        "        with open(filename, 'r') as file:\n",
        "            content = file.read()\n",
        "            word_count = content.lower().split().count(word.lower())\n",
        "            print(f\"The word '{word}' occurs {word_count} times in the file.\")\n",
        "    except FileNotFoundError:\n",
        "        print(f\"The file '{filename}' was not found.\")\n",
        "count_word_occurrences(\"sample.txt\", \"python\")\n"
      ],
      "metadata": {
        "colab": {
          "base_uri": "https://localhost:8080/"
        },
        "id": "VrJLMAaJ6vZJ",
        "outputId": "bc8db009-5c45-42e5-ce1e-0e5bb4cb573c"
      },
      "execution_count": 37,
      "outputs": [
        {
          "output_type": "stream",
          "name": "stdout",
          "text": [
            "The file 'sample.txt' was not found.\n"
          ]
        }
      ]
    },
    {
      "cell_type": "markdown",
      "source": [
        "------------------------------------------------------------------------------------------"
      ],
      "metadata": {
        "id": "ZFs1A-1k7lcI"
      }
    }
  ]
}